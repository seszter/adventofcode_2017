{
 "cells": [
  {
   "cell_type": "code",
   "execution_count": 39,
   "metadata": {},
   "outputs": [],
   "source": [
    "firewall = {\n",
    "0: 5,\n",
    "1: 2,\n",
    "2: 3,\n",
    "4: 4,\n",
    "6: 6,\n",
    "8: 4,\n",
    "10: 8,\n",
    "12: 6,\n",
    "14: 6,\n",
    "16: 8,\n",
    "18: 6,\n",
    "20: 9,\n",
    "22: 8,\n",
    "24: 10,\n",
    "26: 8,\n",
    "28: 8,\n",
    "30: 12,\n",
    "32: 8,\n",
    "34: 12,\n",
    "36: 10,\n",
    "38: 12,\n",
    "40: 12,\n",
    "42: 12,\n",
    "44: 12,\n",
    "46: 12,\n",
    "48: 14,\n",
    "50: 12,\n",
    "52: 14,\n",
    "54: 12,\n",
    "56: 14,\n",
    "58: 12,\n",
    "60: 14,\n",
    "62: 14,\n",
    "64: 14,\n",
    "66: 14,\n",
    "68: 14,\n",
    "70: 14,\n",
    "72: 14,\n",
    "76: 14,\n",
    "80: 18,\n",
    "84: 14,\n",
    "90: 18,\n",
    "92: 17\n",
    "}"
   ]
  },
  {
   "cell_type": "code",
   "execution_count": 5,
   "metadata": {
    "collapsed": true
   },
   "outputs": [],
   "source": [
    "def period_of_scanner_returning(fw_range):\n",
    "    return fw_range + fw_range - 2"
   ]
  },
  {
   "cell_type": "code",
   "execution_count": 9,
   "metadata": {},
   "outputs": [
    {
     "data": {
      "text/plain": [
       "1840"
      ]
     },
     "execution_count": 9,
     "metadata": {},
     "output_type": "execute_result"
    }
   ],
   "source": [
    "severity = 0\n",
    "for i in range(max(firewall.keys()) + 1):\n",
    "     if i in firewall:\n",
    "            if i % period_of_scanner_returning(i,firewall[i]) == 0:\n",
    "                severity += i * firewall[i]\n",
    "severity"
   ]
  },
  {
   "cell_type": "markdown",
   "metadata": {},
   "source": [
    "### Part 2"
   ]
  },
  {
   "cell_type": "code",
   "execution_count": 42,
   "metadata": {},
   "outputs": [
    {
     "name": "stdout",
     "output_type": "stream",
     "text": [
      "bingo 3850260\n"
     ]
    }
   ],
   "source": [
    "for j in range(10000000):\n",
    "    caught = False\n",
    "    for i in range(max(firewall.keys()) + 1):        \n",
    "        if i in firewall:\n",
    "            if (i + j) % period_of_scanner_returning(i,firewall[i]) == 0:\n",
    "                caught = True\n",
    "                break\n",
    "    if not caught:                \n",
    "        print('bingo',j)\n",
    "        break\n"
   ]
  },
  {
   "cell_type": "code",
   "execution_count": null,
   "metadata": {
    "collapsed": true
   },
   "outputs": [],
   "source": []
  }
 ],
 "metadata": {
  "kernelspec": {
   "display_name": "Python 3",
   "language": "python",
   "name": "python3"
  },
  "language_info": {
   "codemirror_mode": {
    "name": "ipython",
    "version": 3
   },
   "file_extension": ".py",
   "mimetype": "text/x-python",
   "name": "python",
   "nbconvert_exporter": "python",
   "pygments_lexer": "ipython3",
   "version": "3.6.2"
  }
 },
 "nbformat": 4,
 "nbformat_minor": 2
}
