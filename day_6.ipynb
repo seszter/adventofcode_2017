{
 "cells": [
  {
   "cell_type": "markdown",
   "metadata": {},
   "source": [
    "## Part 1"
   ]
  },
  {
   "cell_type": "code",
   "execution_count": 175,
   "metadata": {
    "collapsed": true
   },
   "outputs": [],
   "source": [
    "class Finish:\n",
    "    def __init__(self):\n",
    "        self.has_seen = []\n",
    "        self.finish = 0\n",
    "        \n",
    "    def check(self, check_banks):\n",
    "        if check_banks in self.has_seen:\n",
    "            self.finish = 1\n",
    "            print ('finished', len(self.has_seen))\n",
    "        else:\n",
    "            self.has_seen.append(check_banks)\n",
    "            \n",
    "    def finished(self):\n",
    "        return self.finish\n",
    "    "
   ]
  },
  {
   "cell_type": "code",
   "execution_count": 176,
   "metadata": {},
   "outputs": [],
   "source": [
    "class Bank:\n",
    "    def __init__(self, banks):\n",
    "        self.banks = banks\n",
    "        \n",
    "    def get_maxs(self):\n",
    "        self.max_value = max(self.banks)\n",
    "        self.max_value_pos = self.banks.index(max(self.banks))\n",
    "        \n",
    "            \n",
    "    def redestribute(self):\n",
    "        self.get_maxs()\n",
    "        value = self.max_value\n",
    "        pos = self.max_value_pos\n",
    "        \n",
    "        self.banks[pos] = 0\n",
    "        while value > 0:\n",
    "            pos += 1\n",
    "            if pos >= len(self.banks):\n",
    "                pos = 0\n",
    "            self.banks[pos] += 1\n",
    "            value -= 1\n",
    "            \n",
    "    def return_banks(self):\n",
    "        return self.banks.copy()\n",
    "            "
   ]
  },
  {
   "cell_type": "code",
   "execution_count": 177,
   "metadata": {},
   "outputs": [
    {
     "name": "stdout",
     "output_type": "stream",
     "text": [
      "finished 4074\n"
     ]
    }
   ],
   "source": [
    "initial = [11,11,13,7,0,15,5,5,4,4,1,1,7,1,15,11]\n",
    "fin = Finish()\n",
    "bank = Bank(initial)\n",
    "fin.check(bank.return_banks())\n",
    "while fin.finished() < 1:\n",
    "    bank.get_maxs()\n",
    "    bank.redestribute()\n",
    "    fin.check(bank.return_banks())\n",
    "    bank = Bank(bank.return_banks())"
   ]
  },
  {
   "cell_type": "markdown",
   "metadata": {},
   "source": [
    "## Part 2"
   ]
  },
  {
   "cell_type": "code",
   "execution_count": 181,
   "metadata": {},
   "outputs": [
    {
     "name": "stdout",
     "output_type": "stream",
     "text": [
      "finished 4074\n",
      "finished 2793\n"
     ]
    }
   ],
   "source": [
    "initial = [11,11,13,7,0,15,5,5,4,4,1,1,7,1,15,11]\n",
    "\n",
    "fin = Finish()\n",
    "bank = Bank(initial)\n",
    "fin.check(bank.return_banks())\n",
    "while fin.finished() < 1:\n",
    "    bank.get_maxs()\n",
    "    bank.redestribute()\n",
    "    last_bank = bank.return_banks()\n",
    "    fin.check(bank.return_banks())\n",
    "    bank = Bank(bank.return_banks())\n",
    "    \n",
    "\n",
    "fin = Finish()\n",
    "bank = Bank(last_bank)\n",
    "fin.check(bank.return_banks())\n",
    "while fin.finished() < 1:\n",
    "    bank.get_maxs()\n",
    "    bank.redestribute()\n",
    "    last_bank = bank.return_banks()\n",
    "    fin.check(bank.return_banks())\n",
    "    bank = Bank(bank.return_banks())"
   ]
  },
  {
   "cell_type": "code",
   "execution_count": null,
   "metadata": {
    "collapsed": true
   },
   "outputs": [],
   "source": []
  }
 ],
 "metadata": {
  "kernelspec": {
   "display_name": "Python 3",
   "language": "python",
   "name": "python3"
  },
  "language_info": {
   "codemirror_mode": {
    "name": "ipython",
    "version": 3
   },
   "file_extension": ".py",
   "mimetype": "text/x-python",
   "name": "python",
   "nbconvert_exporter": "python",
   "pygments_lexer": "ipython3",
   "version": "3.6.2"
  }
 },
 "nbformat": 4,
 "nbformat_minor": 2
}
