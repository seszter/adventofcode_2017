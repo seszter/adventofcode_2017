{
 "cells": [
  {
   "cell_type": "code",
   "execution_count": 42,
   "metadata": {},
   "outputs": [],
   "source": [
    "import string"
   ]
  },
  {
   "cell_type": "code",
   "execution_count": 6,
   "metadata": {},
   "outputs": [],
   "source": [
    "with open('aoc2017_16.txt') as f:\n",
    "    lines = f.read().strip('\\n').split(',')"
   ]
  },
  {
   "cell_type": "markdown",
   "metadata": {},
   "source": [
    "Part 1"
   ]
  },
  {
   "cell_type": "code",
   "execution_count": 49,
   "metadata": {},
   "outputs": [],
   "source": [
    "dance = string.ascii_lowercase[:16]"
   ]
  },
  {
   "cell_type": "code",
   "execution_count": 50,
   "metadata": {},
   "outputs": [],
   "source": [
    "moves = ['s1', 'x3/4', 'pe/b']\n",
    "moves = lines"
   ]
  },
  {
   "cell_type": "code",
   "execution_count": 51,
   "metadata": {},
   "outputs": [
    {
     "data": {
      "text/plain": [
       "10000"
      ]
     },
     "execution_count": 51,
     "metadata": {},
     "output_type": "execute_result"
    }
   ],
   "source": [
    "len(moves)"
   ]
  },
  {
   "cell_type": "code",
   "execution_count": 52,
   "metadata": {},
   "outputs": [],
   "source": [
    "#dance = 'abcdefghijklmnp'\n",
    "for m in moves:\n",
    "    if m[0] == 's':\n",
    "        pos = int(m[1:])\n",
    "        dance = dance[-pos:] + dance[:len(dance) - pos]\n",
    "    elif m[0] == 'x':\n",
    "        poss = [int(x) for x in m[1:].split('/')]\n",
    "        pos1 = min(poss)\n",
    "        pos2 = max(poss)\n",
    "        dance = dance[:pos1] + dance[pos2] + dance[pos1+1:pos2] + dance[pos1] + dance[pos2+1:]\n",
    "    elif m[0] == 'p':\n",
    "        char1 = m[1:].split('/')[0]\n",
    "        char2 = m[1:].split('/')[1]\n",
    "        dance = dance.replace(char1,'z').replace(char2,'x').replace('z', char2).replace('x', char1)\n",
    "    #print(dance)"
   ]
  },
  {
   "cell_type": "code",
   "execution_count": 53,
   "metadata": {},
   "outputs": [
    {
     "data": {
      "text/plain": [
       "'padheomkgjfnblic'"
      ]
     },
     "execution_count": 53,
     "metadata": {},
     "output_type": "execute_result"
    }
   ],
   "source": [
    "dance"
   ]
  },
  {
   "cell_type": "markdown",
   "metadata": {},
   "source": [
    "Part 2"
   ]
  },
  {
   "cell_type": "code",
   "execution_count": 54,
   "metadata": {},
   "outputs": [],
   "source": [
    "def dance_round(dance, moves):\n",
    "    for m in moves:\n",
    "        if m[0] == 's':\n",
    "            pos = int(m[1:])\n",
    "            dance = dance[-pos:] + dance[:len(dance) - pos]\n",
    "        elif m[0] == 'x':\n",
    "            poss = [int(x) for x in m[1:].split('/')]\n",
    "            pos1 = min(poss)\n",
    "            pos2 = max(poss)\n",
    "            dance = dance[:pos1] + dance[pos2] + dance[pos1+1:pos2] + dance[pos1] + dance[pos2+1:]\n",
    "        elif m[0] == 'p':\n",
    "            char1 = m[1:].split('/')[0]\n",
    "            char2 = m[1:].split('/')[1]\n",
    "            dance = dance.replace(char1,'z').replace(char2,'x').replace('z', char2).replace('x', char1)\n",
    "    return dance"
   ]
  },
  {
   "cell_type": "code",
   "execution_count": 55,
   "metadata": {},
   "outputs": [
    {
     "data": {
      "text/plain": [
       "'padheomkgjfnblic'"
      ]
     },
     "execution_count": 55,
     "metadata": {},
     "output_type": "execute_result"
    }
   ],
   "source": [
    "dance_round(string.ascii_lowercase[:16], lines)"
   ]
  },
  {
   "cell_type": "code",
   "execution_count": 56,
   "metadata": {},
   "outputs": [
    {
     "name": "stdout",
     "output_type": "stream",
     "text": [
      "16.9 ms ± 535 µs per loop (mean ± std. dev. of 7 runs, 100 loops each)\n"
     ]
    }
   ],
   "source": [
    "%timeit dance_round(string.ascii_lowercase[:16], lines)"
   ]
  },
  {
   "cell_type": "code",
   "execution_count": 57,
   "metadata": {},
   "outputs": [
    {
     "data": {
      "text/plain": [
       "17000000000"
      ]
     },
     "execution_count": 57,
     "metadata": {},
     "output_type": "execute_result"
    }
   ],
   "source": [
    "1000000000*17"
   ]
  },
  {
   "cell_type": "code",
   "execution_count": 70,
   "metadata": {},
   "outputs": [
    {
     "name": "stdout",
     "output_type": "stream",
     "text": [
      "60\n"
     ]
    }
   ],
   "source": [
    "dance = string.ascii_lowercase[:16]\n",
    "dances = [dance]\n",
    "i = 1\n",
    "while i < 100:\n",
    "    dance = dance_round(dance, lines)\n",
    "    dances.append(dance)\n",
    "    if dance == string.ascii_lowercase[:16]:\n",
    "        print(i)\n",
    "        break\n",
    "    i += 1"
   ]
  },
  {
   "cell_type": "code",
   "execution_count": 78,
   "metadata": {},
   "outputs": [],
   "source": [
    "rounds = 1000000000"
   ]
  },
  {
   "cell_type": "code",
   "execution_count": 79,
   "metadata": {},
   "outputs": [],
   "source": [
    "dance = string.ascii_lowercase[:16]\n",
    "for i in range(rounds % 60):\n",
    "    dance = dance_round(dance, lines)\n",
    "\n"
   ]
  },
  {
   "cell_type": "code",
   "execution_count": 80,
   "metadata": {},
   "outputs": [
    {
     "data": {
      "text/plain": [
       "'bfcdeakhijmlgopn'"
      ]
     },
     "execution_count": 80,
     "metadata": {},
     "output_type": "execute_result"
    }
   ],
   "source": [
    "dance"
   ]
  },
  {
   "cell_type": "code",
   "execution_count": null,
   "metadata": {},
   "outputs": [],
   "source": []
  }
 ],
 "metadata": {
  "kernelspec": {
   "display_name": "Python 3",
   "language": "python",
   "name": "python3"
  },
  "language_info": {
   "codemirror_mode": {
    "name": "ipython",
    "version": 3
   },
   "file_extension": ".py",
   "mimetype": "text/x-python",
   "name": "python",
   "nbconvert_exporter": "python",
   "pygments_lexer": "ipython3",
   "version": "3.7.4"
  }
 },
 "nbformat": 4,
 "nbformat_minor": 2
}
