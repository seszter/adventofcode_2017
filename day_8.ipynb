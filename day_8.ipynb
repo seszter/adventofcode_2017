{
 "cells": [
  {
   "cell_type": "markdown",
   "metadata": {},
   "source": [
    "### Part 1"
   ]
  },
  {
   "cell_type": "code",
   "execution_count": 4,
   "metadata": {
    "collapsed": true
   },
   "outputs": [],
   "source": [
    "with open('day8.txt') as f:\n",
    "    lines = f.readlines()"
   ]
  },
  {
   "cell_type": "code",
   "execution_count": 26,
   "metadata": {
    "collapsed": false
   },
   "outputs": [],
   "source": [
    "registers = {}\n",
    "for l in lines:\n",
    "    subject = l.split(' ')[0]\n",
    "    condition_subject = l.split(' ')[-3]\n",
    "    if subject not in registers.keys():\n",
    "        registers[subject] = 0\n",
    "    if condition_subject not in registers.keys():\n",
    "        registers[condition_subject] = 0\n",
    "    if eval(str(registers[condition_subject]) + ' '.join(l[:-1].split(' ')[-2:])):\n",
    "        if l.split(' ')[1] == 'dec':\n",
    "            registers[subject] -= int(l.split(' ')[2])\n",
    "        else:\n",
    "            registers[subject] += int(l.split(' ')[2])"
   ]
  },
  {
   "cell_type": "code",
   "execution_count": 29,
   "metadata": {
    "collapsed": false
   },
   "outputs": [
    {
     "data": {
      "text/plain": [
       "4448"
      ]
     },
     "execution_count": 29,
     "metadata": {},
     "output_type": "execute_result"
    }
   ],
   "source": [
    "max(registers.values())"
   ]
  },
  {
   "cell_type": "markdown",
   "metadata": {},
   "source": [
    "### Part 2"
   ]
  },
  {
   "cell_type": "code",
   "execution_count": 30,
   "metadata": {
    "collapsed": false
   },
   "outputs": [
    {
     "data": {
      "text/plain": [
       "6582"
      ]
     },
     "execution_count": 30,
     "metadata": {},
     "output_type": "execute_result"
    }
   ],
   "source": [
    "max_value = 0\n",
    "\n",
    "registers = {}\n",
    "for l in lines:\n",
    "    subject = l.split(' ')[0]\n",
    "    condition_subject = l.split(' ')[-3]\n",
    "    if subject not in registers.keys():\n",
    "        registers[subject] = 0\n",
    "    if condition_subject not in registers.keys():\n",
    "        registers[condition_subject] = 0\n",
    "    if eval(str(registers[condition_subject]) + ' '.join(l[:-1].split(' ')[-2:])):\n",
    "        if l.split(' ')[1] == 'dec':\n",
    "            registers[subject] -= int(l.split(' ')[2])\n",
    "        else:\n",
    "            registers[subject] += int(l.split(' ')[2])\n",
    "    if max(registers.values()) > max_value:\n",
    "        max_value = max(registers.values())\n",
    "max_value"
   ]
  },
  {
   "cell_type": "code",
   "execution_count": null,
   "metadata": {
    "collapsed": true
   },
   "outputs": [],
   "source": []
  }
 ],
 "metadata": {
  "kernelspec": {
   "display_name": "Python 2",
   "language": "python",
   "name": "python2"
  },
  "language_info": {
   "codemirror_mode": {
    "name": "ipython",
    "version": 2
   },
   "file_extension": ".py",
   "mimetype": "text/x-python",
   "name": "python",
   "nbconvert_exporter": "python",
   "pygments_lexer": "ipython2",
   "version": "2.7.13"
  }
 },
 "nbformat": 4,
 "nbformat_minor": 2
}
