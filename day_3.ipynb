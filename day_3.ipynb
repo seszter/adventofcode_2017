{
 "cells": [
  {
   "cell_type": "code",
   "execution_count": 1,
   "metadata": {
    "collapsed": true
   },
   "outputs": [],
   "source": [
    "import math\n",
    "import numpy as np"
   ]
  },
  {
   "cell_type": "markdown",
   "metadata": {},
   "source": [
    "## Part 1"
   ]
  },
  {
   "cell_type": "code",
   "execution_count": 112,
   "metadata": {
    "collapsed": true
   },
   "outputs": [],
   "source": [
    "myinput = 289326"
   ]
  },
  {
   "cell_type": "code",
   "execution_count": 119,
   "metadata": {},
   "outputs": [
    {
     "data": {
      "text/plain": [
       "419.0"
      ]
     },
     "execution_count": 119,
     "metadata": {},
     "output_type": "execute_result"
    }
   ],
   "source": [
    "squares = [x*x for x in range(1000) if x % 2 == 1]\n",
    "upper = [x for x in squares if x > myinput][0]\n",
    "side = math.sqrt(upper)\n",
    "\n",
    "for i in [upper, upper-side+1, upper-(side-1)*2, upper-(side-1)*3]:\n",
    "    if myinput > i:\n",
    "        smaller_corner = i\n",
    "        break\n",
    "\n",
    "midpoint = smaller_corner + side // 2\n",
    "abs(myinput - midpoint) + side//2"
   ]
  },
  {
   "cell_type": "markdown",
   "metadata": {},
   "source": [
    "## Part 2"
   ]
  },
  {
   "cell_type": "code",
   "execution_count": 2,
   "metadata": {
    "collapsed": true
   },
   "outputs": [],
   "source": [
    "starting = ['r','u','l','l','d','d']\n",
    "steps = starting\n",
    "for i in range(10):\n",
    "    new_circle = (starting.count('d')+1)*['r'] + (starting.count('d')+1)*['u'] + (starting.count('d')+2)*['l'] + (starting.count('d')+2)*['d']\n",
    "    starting = new_circle\n",
    "    steps = steps + new_circle"
   ]
  },
  {
   "cell_type": "code",
   "execution_count": 3,
   "metadata": {
    "collapsed": true
   },
   "outputs": [],
   "source": [
    "step_dict = {'r':{'x':0, 'y':1},\n",
    "            'l':{'x':0, 'y':-1},\n",
    "            'u':{'x':-1, 'y':0},\n",
    "            'd':{'x':1, 'y':0}}"
   ]
  },
  {
   "cell_type": "code",
   "execution_count": 10,
   "metadata": {
    "collapsed": true
   },
   "outputs": [],
   "source": [
    "def cellsum(x,y, grid):\n",
    "    cs = 0\n",
    "    for i in [-1,0,1]:\n",
    "        for j in [-1,0,1]:\n",
    "            cs += grid[x+i,y+j]\n",
    "    return cs"
   ]
  },
  {
   "cell_type": "code",
   "execution_count": 16,
   "metadata": {
    "collapsed": true
   },
   "outputs": [],
   "source": [
    "grid = np.zeros((100,100))"
   ]
  },
  {
   "cell_type": "code",
   "execution_count": 17,
   "metadata": {},
   "outputs": [
    {
     "name": "stdout",
     "output_type": "stream",
     "text": [
      "295229.0\n"
     ]
    }
   ],
   "source": [
    "x = 50\n",
    "y = 50\n",
    "grid[x,y] = 1\n",
    "for step in steps:\n",
    "    x += step_dict[step]['x']\n",
    "    y += step_dict[step]['y']\n",
    "    \n",
    "    grid[x,y] = cellsum(x,y,grid)\n",
    "    if grid[x,y] > 289326:\n",
    "        print (grid[x,y])\n",
    "        break"
   ]
  },
  {
   "cell_type": "code",
   "execution_count": null,
   "metadata": {
    "collapsed": true
   },
   "outputs": [],
   "source": []
  }
 ],
 "metadata": {
  "kernelspec": {
   "display_name": "Python 3",
   "language": "python",
   "name": "python3"
  },
  "language_info": {
   "codemirror_mode": {
    "name": "ipython",
    "version": 3
   },
   "file_extension": ".py",
   "mimetype": "text/x-python",
   "name": "python",
   "nbconvert_exporter": "python",
   "pygments_lexer": "ipython3",
   "version": "3.6.2"
  }
 },
 "nbformat": 4,
 "nbformat_minor": 2
}
