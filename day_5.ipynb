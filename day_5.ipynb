{
 "cells": [
  {
   "cell_type": "markdown",
   "metadata": {},
   "source": [
    "## Part 1"
   ]
  },
  {
   "cell_type": "code",
   "execution_count": 75,
   "metadata": {
    "collapsed": true
   },
   "outputs": [],
   "source": [
    "numbers = []\n",
    "with open('day_5.txt') as f:\n",
    "    for l in f.readlines():\n",
    "        numbers.append(int(l[:-1]))"
   ]
  },
  {
   "cell_type": "code",
   "execution_count": 73,
   "metadata": {},
   "outputs": [
    {
     "name": "stdout",
     "output_type": "stream",
     "text": [
      "372671\n"
     ]
    }
   ],
   "source": [
    "i = 0\n",
    "steps = 0\n",
    "while True:\n",
    "    numbers[i] += 1\n",
    "    i += numbers[i] - 1    \n",
    "    steps += 1\n",
    "    if i > len(numbers) - 1 or i < 0:\n",
    "        print (steps)\n",
    "        break    \n",
    "    "
   ]
  },
  {
   "cell_type": "markdown",
   "metadata": {},
   "source": [
    "## Part 2"
   ]
  },
  {
   "cell_type": "code",
   "execution_count": 76,
   "metadata": {},
   "outputs": [
    {
     "name": "stdout",
     "output_type": "stream",
     "text": [
      "25608480\n"
     ]
    }
   ],
   "source": [
    "i = 0\n",
    "steps = 0\n",
    "while True:\n",
    "    if numbers[i] >= 3:\n",
    "        to_add = -1\n",
    "    else:\n",
    "        to_add = 1\n",
    "        \n",
    "    numbers[i] += to_add\n",
    "    i += numbers[i] - to_add    \n",
    "    steps += 1\n",
    "    if i > len(numbers) - 1 or i < 0:\n",
    "        print (steps)\n",
    "        break    \n",
    "    "
   ]
  },
  {
   "cell_type": "code",
   "execution_count": null,
   "metadata": {
    "collapsed": true
   },
   "outputs": [],
   "source": []
  },
  {
   "cell_type": "code",
   "execution_count": null,
   "metadata": {
    "collapsed": true
   },
   "outputs": [],
   "source": []
  }
 ],
 "metadata": {
  "kernelspec": {
   "display_name": "Python 3",
   "language": "python",
   "name": "python3"
  },
  "language_info": {
   "codemirror_mode": {
    "name": "ipython",
    "version": 3
   },
   "file_extension": ".py",
   "mimetype": "text/x-python",
   "name": "python",
   "nbconvert_exporter": "python",
   "pygments_lexer": "ipython3",
   "version": "3.6.2"
  }
 },
 "nbformat": 4,
 "nbformat_minor": 2
}
